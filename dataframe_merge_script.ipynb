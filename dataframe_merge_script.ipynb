{
 "cells": [
  {
   "cell_type": "code",
   "execution_count": null,
   "metadata": {
    "collapsed": true
   },
   "outputs": [],
   "source": [
    "pd.options.display.max_colwidth = 50"
   ]
  },
  {
   "cell_type": "code",
   "execution_count": null,
   "metadata": {
    "collapsed": false,
    "scrolled": true
   },
   "outputs": [],
   "source": [
    "ilbe_df = pd.read_csv('./raw_text/ilbe_g6.txt', encoding='utf-8', sep='\\t',\n",
    "                 names=['id', 'date', 'title', 'content', 'view', 'c_time'])\n",
    "ilbe_df = ilbe_df.drop('c_time', 1)\n",
    "ilbe_df['product'] = \"g6\"\n",
    "\n",
    "ilbe_frame = ilbe_df.drop_duplicates(['id'])\n",
    "ilbe_frame.index = range(len(ilbe_frame))\n",
    "ilbe_frame.to_csv('ilbe_g6_temp.csv')"
   ]
  },
  {
   "cell_type": "code",
   "execution_count": null,
   "metadata": {
    "collapsed": false
   },
   "outputs": [],
   "source": [
    "ilbe_df = pd.read_csv('./dataframes/ilbe_s7.csv', encoding='cp949',\n",
    "                      names=['id', 'date', 'title', 'content', 'view'])\n",
    "\n",
    "ilbe_df = ilbe_df.drop(['view'], 1)\n",
    "ilbe_df['product'] = \"s7\""
   ]
  },
  {
   "cell_type": "code",
   "execution_count": null,
   "metadata": {
    "collapsed": false,
    "scrolled": false
   },
   "outputs": [],
   "source": [
    "ilbe_df.tail()"
   ]
  },
  {
   "cell_type": "code",
   "execution_count": null,
   "metadata": {
    "collapsed": false
   },
   "outputs": [],
   "source": [
    "ilbe_df.to_csv('ilbe_s7.csv', encoding=\"utf-8\", index=False)"
   ]
  },
  {
   "cell_type": "code",
   "execution_count": null,
   "metadata": {
    "collapsed": false,
    "scrolled": true
   },
   "outputs": [],
   "source": [
    "def bbasak_df(keyword):\n",
    "    df = pd.read_csv('./dataframes/bbasak_{}.csv'.format(keyword),\n",
    "                     names=['id', 'date', 'title', 'content', 'view', 'c_time'])\n",
    "    df = df.drop('c_time', 1)\n",
    "    df['product'] = keyword\n",
    "    df_cols = ['id', 'date', 'title', 'content', 'view', 'product']\n",
    "    df = df[df_cols]\n",
    "    return df\n",
    "\n",
    "def bbasak_concat(*args):\n",
    "    keywords = []\n",
    "    \n",
    "    for keyword in args:\n",
    "        keywords.append(keyword)\n",
    "        \n",
    "    df = pd.concat(keywords)\n",
    "    df.index = range(len(df))\n",
    "    df['ref'] = 'bbasak'\n",
    "    return df\n",
    "\n",
    "bassak_g5 = bbasak_df('g5')\n",
    "bassak_g6 = bbasak_df('g6')\n",
    "bassak_s7 = bbasak_df('s7')\n",
    "\n",
    "bbasak_df = bbasak_concat(bassak_g5, bassak_g6, bassak_s7)\n",
    "bbasak_df.tail()"
   ]
  },
  {
   "cell_type": "code",
   "execution_count": null,
   "metadata": {
    "collapsed": false,
    "scrolled": true
   },
   "outputs": [],
   "source": [
    "def dcinside_df(keyword):\n",
    "    df = pd.read_csv('./dataframes/dcinside_{}.csv'.format(keyword),\n",
    "                     names=['id', 'date', 'title', 'content', 'view', 'c_time'])\n",
    "    df = df.drop('c_time', 1)\n",
    "    df['product'] = keyword\n",
    "    df_cols = ['id', 'date', 'title', 'content', 'view', 'product']\n",
    "    df = df[df_cols]\n",
    "    return df\n",
    "\n",
    "def dcinside_concat(*args):\n",
    "    keywords = []\n",
    "    \n",
    "    for keyword in args:\n",
    "        keywords.append(keyword)\n",
    "        \n",
    "    df = pd.concat(keywords)\n",
    "    df.index = range(len(df))\n",
    "    df['ref'] = 'dcinside'\n",
    "    return df\n",
    "\n",
    "dcinside_g5 = dcinside_df('g5')\n",
    "dcinside_g6 = dcinside_df('g6')\n",
    "dcinside_s7 = dcinside_df('s7')\n",
    "\n",
    "dcinside_df = dcinside_concat(dcinside_g5, dcinside_g6, dcinside_s7)\n",
    "dcinside_df.tail()"
   ]
  },
  {
   "cell_type": "code",
   "execution_count": null,
   "metadata": {
    "collapsed": false,
    "scrolled": true
   },
   "outputs": [],
   "source": [
    "def ppomppu_df(keyword):\n",
    "    df = pd.read_csv('./dataframes/ppomppu_{}.csv'.format(keyword),\n",
    "                     usecols=[0, 1, 2, 3, 4, 5],\n",
    "                     names=['id', 'date', 'view', 'title', 'content', 'c_time'])\n",
    "    df = df.drop('c_time', 1)\n",
    "    df['product'] = keyword\n",
    "    df_cols = ['id', 'date', 'title', 'content', 'view', 'product']\n",
    "    df = df[df_cols]\n",
    "    return df\n",
    "\n",
    "def ppomppu_concat(*args):\n",
    "    keywords = []\n",
    "    \n",
    "    for keyword in args:\n",
    "        keywords.append(keyword)\n",
    "        \n",
    "    df = pd.concat(keywords)\n",
    "    df.index = range(len(df))\n",
    "    df['ref'] = 'ppomppu'\n",
    "    return df\n",
    "\n",
    "ppomppu_g5 = ppomppu_df('g5')\n",
    "ppomppu_g6 = ppomppu_df('g6')\n",
    "ppomppu_s7 = ppomppu_df('s7')\n",
    "\n",
    "ppomppu_df = ppomppu_concat(ppomppu_g5, ppomppu_g6, ppomppu_s7)\n",
    "ppomppu_df.tail()"
   ]
  },
  {
   "cell_type": "code",
   "execution_count": null,
   "metadata": {
    "collapsed": false
   },
   "outputs": [],
   "source": [
    "def ilbe_df(keyword):\n",
    "    df = pd.read_csv('./dataframes/ilbe_{}.csv'.format(keyword),\n",
    "                     usecols=[0, 1, 2, 3, 4, 5],\n",
    "                     names=['id', 'date', 'view', 'title', 'content', 'c_time'])\n",
    "    df = df.drop('c_time', 1)\n",
    "    df['product'] = keyword\n",
    "    df_cols = ['id', 'date', 'title', 'content', 'view', 'product']\n",
    "    df = df[df_cols]\n",
    "    return df\n",
    "\n",
    "def ilbe_concat(*args):\n",
    "    keywords = []\n",
    "    \n",
    "    for keyword in args:\n",
    "        keywords.append(keyword)\n",
    "        \n",
    "    df = pd.concat(keywords)\n",
    "    df.index = range(len(df))\n",
    "    df['ref'] = 'ilbe'\n",
    "    return df\n",
    "\n",
    "ilbe_g5 = ilbe_df('g5')\n",
    "ilbe_g6 = ilbe_df('g6')\n",
    "ilbe_s7 = ilbe_df('s7')\n",
    "\n",
    "ilbe_df = ilbe_concat(ilbe_g5, ilbe_g6, ilbe_s7)\n",
    "ilbe_df.tail()"
   ]
  },
  {
   "cell_type": "code",
   "execution_count": null,
   "metadata": {
    "collapsed": false,
    "scrolled": true
   },
   "outputs": [],
   "source": [
    "phone_df = pd.concat([bbasak_df, dcinside_df, ppomppu_df])\n",
    "phone_df.index = range(len(phone_df))\n",
    "phone_df.tail()"
   ]
  },
  {
   "cell_type": "code",
   "execution_count": null,
   "metadata": {
    "collapsed": false,
    "scrolled": true
   },
   "outputs": [],
   "source": [
    "phone_frame = phone_df.drop_duplicates(['id'])\n",
    "phone_frame.index = range(len(phone_frame))\n",
    "phone_frame.tail()"
   ]
  },
  {
   "cell_type": "code",
   "execution_count": null,
   "metadata": {
    "collapsed": false
   },
   "outputs": [],
   "source": [
    "phone_frame.to_csv('phone_df.csv', index=False)"
   ]
  }
 ],
 "metadata": {
  "anaconda-cloud": {},
  "kernelspec": {
   "display_name": "Python [conda root]",
   "language": "python",
   "name": "conda-root-py"
  },
  "language_info": {
   "codemirror_mode": {
    "name": "ipython",
    "version": 3
   },
   "file_extension": ".py",
   "mimetype": "text/x-python",
   "name": "python",
   "nbconvert_exporter": "python",
   "pygments_lexer": "ipython3",
   "version": "3.5.2"
  }
 },
 "nbformat": 4,
 "nbformat_minor": 1
}
